{
 "cells": [
  {
   "cell_type": "code",
   "execution_count": null,
   "metadata": {},
   "outputs": [],
   "source": [
    "import pandas as pd\n",
    "import pandas as pd\n",
    "import matplotlib.pyplot as plt\n",
    "import seaborn as sns\n",
    "import matplotlib.dates as mdates\n",
    "from operator import attrgetter"
   ]
  },
  {
   "cell_type": "code",
   "execution_count": null,
   "metadata": {},
   "outputs": [],
   "source": [
    "df = pd.read_csv('/Users/steve/Documents/DSB_M2/bcg/transactions_dataset.csv', sep = ';')"
   ]
  },
  {
   "cell_type": "code",
   "execution_count": null,
   "metadata": {},
   "outputs": [],
   "source": [
    "df.order_channel.value_counts()"
   ]
  },
  {
   "cell_type": "code",
   "execution_count": null,
   "metadata": {},
   "outputs": [],
   "source": [
    "missing_values = df.isnull().sum()\n",
    "print(missing_values)"
   ]
  },
  {
   "cell_type": "code",
   "execution_count": null,
   "metadata": {},
   "outputs": [],
   "source": [
    "\n",
    "df['date_order'] = pd.to_datetime(df['date_order'])\n",
    "df['date_invoice'] = pd.to_datetime(df['date_invoice'])\n",
    "\n",
    "df['order_invoice_delta'] = (df['date_invoice'] - df['date_order']).dt.days\n",
    "\n",
    "print(df[['date_order', 'date_invoice', 'order_invoice_delta']].head())\n"
   ]
  },
  {
   "cell_type": "code",
   "execution_count": null,
   "metadata": {},
   "outputs": [],
   "source": [
    "\n",
    "\n",
    "plt.figure(figsize=(10, 6))\n",
    "plt.hist(df['order_invoice_delta'], bins=3, color='skyblue', edgecolor='black')\n",
    "plt.title('Distribution of Order-Invoice Delta')\n",
    "plt.xlabel('Order-Invoice Delta (days)')\n",
    "plt.ylabel('Frequency')\n",
    "plt.grid(True)\n",
    "plt.show()\n"
   ]
  },
  {
   "cell_type": "code",
   "execution_count": null,
   "metadata": {},
   "outputs": [],
   "source": [
    "df.order_invoice_delta.describe()"
   ]
  },
  {
   "cell_type": "code",
   "execution_count": null,
   "metadata": {},
   "outputs": [],
   "source": [
    "df.order_invoice_delta.value_counts()"
   ]
  },
  {
   "cell_type": "code",
   "execution_count": null,
   "metadata": {},
   "outputs": [],
   "source": [
    "df.sales_net.describe()"
   ]
  },
  {
   "cell_type": "code",
   "execution_count": null,
   "metadata": {},
   "outputs": [],
   "source": [
    "mean_net_spend_per_channel = df.groupby('order_channel')['sales_net'].mean()\n",
    "print(mean_net_spend_per_channel)\n"
   ]
  },
  {
   "cell_type": "code",
   "execution_count": null,
   "metadata": {},
   "outputs": [],
   "source": [
    "df[df[\"order_invoice_delta\"]>0]"
   ]
  },
  {
   "cell_type": "code",
   "execution_count": null,
   "metadata": {},
   "outputs": [],
   "source": [
    "df[\"client_id\"].value_counts()"
   ]
  },
  {
   "cell_type": "code",
   "execution_count": null,
   "metadata": {},
   "outputs": [],
   "source": [
    "net_spend_per_product = df.groupby('product_id')['sales_net'].sum().sort_values(ascending=False)\n",
    "print(net_spend_per_product)"
   ]
  },
  {
   "cell_type": "code",
   "execution_count": null,
   "metadata": {},
   "outputs": [],
   "source": [
    "net_spend_per_product_top_n = net_spend_per_product.head(20)\n",
    "\n",
    "plt.figure(figsize=(12, 8))\n",
    "net_spend_per_product_top_n.plot(kind='bar')\n",
    "plt.title('Net Spend per Product (Top 10)')\n",
    "plt.xlabel('Product ID')\n",
    "plt.ylabel('Total Net Spend')\n",
    "plt.show()"
   ]
  },
  {
   "cell_type": "code",
   "execution_count": null,
   "metadata": {},
   "outputs": [],
   "source": [
    "net_spend_per_store = df.groupby('branch_id')['sales_net'].sum().sort_values(ascending=False)\n",
    "print(net_spend_per_store)"
   ]
  },
  {
   "cell_type": "code",
   "execution_count": null,
   "metadata": {},
   "outputs": [],
   "source": [
    "net_spend_per_store_top_n = net_spend_per_store.head(20)\n",
    "\n",
    "plt.figure(figsize=(12, 8))\n",
    "net_spend_per_store_top_n.plot(kind='bar')\n",
    "plt.title('Net Spend per Store (Top 10)')\n",
    "plt.xlabel('Product ID')\n",
    "plt.ylabel('Total Net Spend')\n",
    "plt.show()"
   ]
  },
  {
   "cell_type": "code",
   "execution_count": null,
   "metadata": {},
   "outputs": [],
   "source": [
    "top_10_clients_by_sales_net = df.groupby('client_id')['sales_net'].sum().sort_values(ascending=False).head(10)\n",
    "print(top_10_clients_by_sales_net)\n"
   ]
  },
  {
   "cell_type": "code",
   "execution_count": null,
   "metadata": {},
   "outputs": [],
   "source": [
    "top_10_clients_ids = top_10_clients_by_sales_net.index\n",
    "top_clients_df = df[df['client_id'].isin(top_10_clients_ids)].head(10)\n",
    "\n",
    "\n",
    "plt.figure(figsize=(12, 8))\n",
    "top_clients_df['branch_id'].value_counts().plot(kind='bar')\n",
    "plt.title('Frequency of Branch IDs for Top 100 Clients by Net Sales')\n",
    "plt.xlabel('Branch ID')\n",
    "plt.ylabel('Frequency')\n",
    "plt.show()"
   ]
  },
  {
   "cell_type": "code",
   "execution_count": null,
   "metadata": {},
   "outputs": [],
   "source": [
    "grouped_orders = df.groupby(['client_id', 'product_id']).agg({'date_order': ['count', 'min', 'max'], 'quantity': 'sum'}).reset_index()\n",
    "grouped_orders.columns = ['client_id', 'product_id', 'total_orders', 'first_order_date', 'last_order_date', 'total_quantity']\n"
   ]
  },
  {
   "cell_type": "code",
   "execution_count": null,
   "metadata": {},
   "outputs": [],
   "source": [
    "repeated_orders = grouped_orders[grouped_orders['total_orders'] > 1]\n",
    "\n",
    "repeated_orders['average_order_frequency'] = (repeated_orders['last_order_date'] - repeated_orders['first_order_date']) / (repeated_orders['total_orders'] - 1)\n"
   ]
  },
  {
   "cell_type": "code",
   "execution_count": null,
   "metadata": {},
   "outputs": [],
   "source": [
    "repeated_orders.sort_values(by = 'total_orders', ascending=False).head(40)"
   ]
  },
  {
   "cell_type": "code",
   "execution_count": null,
   "metadata": {},
   "outputs": [],
   "source": [
    "\n",
    "subscription_like = repeated_orders[(repeated_orders['average_order_frequency'] > pd.Timedelta(days=25)) & (repeated_orders['average_order_frequency'] < pd.Timedelta(days=35))]\n",
    "client_id = subscription_like.iloc[50]['client_id'] # Plotting order frequency for a specific client\n",
    "client_orders = df[df['client_id'] == client_id]\n",
    "\n",
    "plt.figure(figsize=(10, 6))\n",
    "plt.plot(client_orders['date_order'], client_orders['quantity'], marker='o')\n",
    "plt.title(f'Order Frequency for Client {client_id}')\n",
    "plt.xlabel('Date')\n",
    "plt.ylabel('Quantity')\n",
    "plt.show()\n"
   ]
  },
  {
   "cell_type": "code",
   "execution_count": null,
   "metadata": {},
   "outputs": [],
   "source": [
    "volume_categories = df.groupby('client_id')['quantity'].sum().reset_index(name='TotalQuantity')\n",
    "volume_categories.sort_values(by='TotalQuantity', ascending=False).head(35)"
   ]
  },
  {
   "cell_type": "code",
   "execution_count": null,
   "metadata": {},
   "outputs": [],
   "source": [
    "day_total_quantity = df.groupby('date_order')['quantity'].sum().reset_index(name='TotalQuantity')\n",
    "day_total_quantity['date_order'] = pd.to_datetime(day_total_quantity['date_order'])\n",
    "day_total_quantity.set_index('date_order', inplace=True)\n",
    "\n",
    "day_total_quantity['day_of_week'] = day_total_quantity.index.day_name()\n",
    "plt.figure(figsize=(15, 7))\n",
    "sns.barplot(x='day_of_week', y='TotalQuantity', data=day_total_quantity, color = '#28BA74')\n",
    "plt.title('Day of the Week Analysis')\n",
    "plt.xlabel('Day of Week')\n",
    "plt.ylabel('Total Quantity')\n",
    "plt.show()"
   ]
  },
  {
   "cell_type": "code",
   "execution_count": null,
   "metadata": {},
   "outputs": [],
   "source": [
    "df['day_of_week'] = df['date_order'].dt.day_name()\n",
    "weekend_orders = df[df['day_of_week'].isin(['Saturday', 'Sunday'])]\n",
    "weekend_order_channel_frequency = weekend_orders['order_channel'].value_counts()\n",
    "\n",
    "plt.figure(figsize=(10, 6))\n",
    "weekend_order_channel_frequency.plot(kind='bar', color = '#28BA74')\n",
    "plt.title('Order Channel Frequency on Weekends')\n",
    "plt.xlabel('Order Channel')\n",
    "plt.ylabel('Frequency')\n",
    "plt.show()\n"
   ]
  },
  {
   "cell_type": "code",
   "execution_count": null,
   "metadata": {},
   "outputs": [],
   "source": [
    "df['date_order'] = pd.to_datetime(df['date_order'])\n",
    "df['OrderMonth'] = df['date_order'].dt.to_period('M')\n",
    "df['CohortMonth'] = df.groupby('client_id')['date_order'].transform('min').dt.to_period('M')\n",
    "cohort_data = df.groupby(['CohortMonth', 'OrderMonth']).agg(n_customers=('client_id', 'nunique')).reset_index()\n",
    "cohort_data['CohortIndex'] = (cohort_data.OrderMonth - cohort_data.CohortMonth).apply(attrgetter('n'))\n",
    "cohort_counts = cohort_data.pivot_table(index='CohortMonth', columns='CohortIndex', values='n_customers')\n",
    "cohort_sizes = cohort_counts.iloc[:,0]\n",
    "retention = cohort_counts.divide(cohort_sizes, axis=0)\n",
    "\n",
    "# Plotting the retention rates\n",
    "plt.figure(figsize=(12, 8))\n",
    "sns.heatmap(retention, annot=True, fmt='.0%', cmap='BuGn')\n",
    "plt.title('Cohorts: User Retention')\n",
    "plt.ylabel('Cohort Month')\n",
    "plt.xlabel('Months after First Purchase')\n",
    "plt.show()\n"
   ]
  },
  {
   "cell_type": "markdown",
   "metadata": {},
   "source": [
    "# Modelling"
   ]
  },
  {
   "cell_type": "code",
   "execution_count": null,
   "metadata": {},
   "outputs": [],
   "source": [
    "from BCG_Data_Strategy.src.dataloader import final_preprocessing\n",
    "from pathlib import Path\n",
    "import pandas as pd\n",
    "from sklearn.model_selection import train_test_split\n",
    "import xgboost as xgb\n",
    "from sklearn.metrics import accuracy_score\n",
    "from sklearn.metrics import confusion_matrix\n",
    "import pandas as pd\n",
    "from sklearn.model_selection import train_test_split, RandomizedSearchCV\n",
    "import xgboost as xgb\n",
    "from sklearn.metrics import accuracy_score\n",
    "from sklearn.model_selection import GridSearchCV\n",
    "from sklearn.metrics import roc_curve, roc_auc_score"
   ]
  },
  {
   "cell_type": "code",
   "execution_count": null,
   "metadata": {},
   "outputs": [],
   "source": [
    "data_path = Path('/Users/steve/Documents/DSB_M2/bcg/transactions_dataset.csv')\n",
    "drop_time = 180\n",
    "churn_time = 180\n",
    "recent_to = 180\n",
    "day_diff_to = 4\n",
    "total_days_to = 3\n",
    "\n",
    "train_df = final_preprocessing(data_path, drop_time, churn_time, recent_to, day_diff_to, total_days_to)\n"
   ]
  },
  {
   "cell_type": "code",
   "execution_count": null,
   "metadata": {},
   "outputs": [],
   "source": [
    "test_drop_time = 0\n",
    "\n",
    "test_df = final_preprocessing(data_path, test_drop_time, churn_time, recent_to, day_diff_to, total_days_to)\n"
   ]
  },
  {
   "cell_type": "code",
   "execution_count": null,
   "metadata": {},
   "outputs": [],
   "source": [
    "X_train = train_df.drop('churn', axis=1)\n",
    "y_train = train_df['churn']\n",
    "\n",
    "X_test = test_df.drop('churn', axis=1)\n",
    "y_test = test_df['churn']"
   ]
  },
  {
   "cell_type": "markdown",
   "metadata": {},
   "source": [
    "## Baseline model"
   ]
  },
  {
   "cell_type": "code",
   "execution_count": null,
   "metadata": {},
   "outputs": [],
   "source": [
    "model = xgb.XGBClassifier(objective='binary:logistic', seed=42)\n",
    "model.fit(X_train, y_train)\n",
    "predictions = model.predict(X_test)\n",
    "accuracy = accuracy_score(y_test, predictions)\n",
    "print(f\"Model Accuracy: {accuracy}\")\n"
   ]
  },
  {
   "cell_type": "code",
   "execution_count": null,
   "metadata": {},
   "outputs": [],
   "source": [
    "conf_matrix = confusion_matrix(y_test, predictions)\n",
    "sns.heatmap(conf_matrix, annot=True, fmt='g')\n",
    "plt.xlabel('Predicted labels')\n",
    "plt.ylabel('True labels')\n",
    "plt.title('Confusion Matrix')\n",
    "plt.show()"
   ]
  },
  {
   "cell_type": "code",
   "execution_count": null,
   "metadata": {},
   "outputs": [],
   "source": [
    "y_pred_proba = model.predict_proba(X_test)[:,1]\n",
    "\n",
    "fpr, tpr, thresholds = roc_curve(y_test, y_pred_proba)\n",
    "roc_auc = roc_auc_score(y_test, y_pred_proba)\n",
    "print(f\"AUC: {roc_auc}\")\n",
    "\n",
    "\n",
    "plt.figure()\n",
    "plt.plot(fpr, tpr, color='darkorange', lw=2, label=f'ROC curve (area = {roc_auc:.2f})')\n",
    "\n",
    "plt.xlim([0.0, 1.0])\n",
    "plt.ylim([0.0, 1.05])\n",
    "plt.xlabel('False Positive Rate')\n",
    "plt.ylabel('True Positive Rate')\n",
    "plt.title('Receiver Operating Characteristic')\n",
    "plt.legend(loc=\"lower right\")\n",
    "plt.show()\n"
   ]
  },
  {
   "cell_type": "markdown",
   "metadata": {},
   "source": [
    "## Random search "
   ]
  },
  {
   "cell_type": "code",
   "execution_count": null,
   "metadata": {},
   "outputs": [],
   "source": [
    "param_grid = {\n",
    "    'n_estimators': [100, 200, 300, 400, 500],\n",
    "    'learning_rate': [0.01, 0.05, 0.1, 0.15, 0.2],\n",
    "    'max_depth': [3, 4, 5, 6, 7, 8],\n",
    "    'colsample_bytree': [0.3, 0.4, 0.5, 0.7],\n",
    "    'min_child_weight': [1, 2, 3, 4]\n",
    "}\n",
    "\n",
    "xgb_classifier = xgb.XGBClassifier(objective='binary:logistic', seed=42)\n",
    "\n",
    "random_search = RandomizedSearchCV(xgb_classifier, param_distributions=param_grid, \n",
    "                                   n_iter=50, scoring='accuracy', n_jobs=-1, cv=5, \n",
    "                                   random_state=42)\n",
    "\n",
    "random_search.fit(X_train, y_train)\n",
    "\n",
    "best_estimator = random_search.best_estimator_\n",
    "best_params = random_search.best_params_\n",
    "print(\"Best Parameters:\", best_params)\n",
    "\n",
    "predictions = best_estimator.predict(X_test)\n",
    "\n",
    "accuracy = accuracy_score(y_test, predictions)\n",
    "print(f\"Model Accuracy with Best Parameters: {accuracy}\")\n"
   ]
  },
  {
   "cell_type": "code",
   "execution_count": null,
   "metadata": {},
   "outputs": [],
   "source": [
    "accuracy = accuracy_score(y_test, predictions)\n",
    "print(f\"Model Accuracy: {accuracy}\")"
   ]
  },
  {
   "cell_type": "code",
   "execution_count": null,
   "metadata": {},
   "outputs": [],
   "source": [
    "conf_matrix = confusion_matrix(y_test, predictions)\n",
    "sns.heatmap(conf_matrix, annot=True, fmt='g')\n",
    "plt.xlabel('Predicted labels')\n",
    "plt.ylabel('True labels')\n",
    "plt.title('Confusion Matrix')\n",
    "plt.show()"
   ]
  },
  {
   "cell_type": "code",
   "execution_count": null,
   "metadata": {},
   "outputs": [],
   "source": [
    "y_pred_proba = best_estimator.predict_proba(X_test)[:,1]\n",
    "\n",
    "fpr, tpr, thresholds = roc_curve(y_test, y_pred_proba)\n",
    "roc_auc = roc_auc_score(y_test, y_pred_proba)\n",
    "print(f\"AUC: {roc_auc}\")\n",
    "\n",
    "\n",
    "plt.figure()\n",
    "plt.plot(fpr, tpr, color='darkorange', lw=2, label=f'ROC curve (area = {roc_auc:.2f})')\n",
    "plt.xlim([0.0, 1.0])\n",
    "plt.ylim([0.0, 1.05])\n",
    "plt.xlabel('False Positive Rate')\n",
    "plt.ylabel('True Positive Rate')\n",
    "plt.title('Receiver Operating Characteristic')\n",
    "plt.legend(loc=\"lower right\")\n",
    "plt.show()\n"
   ]
  },
  {
   "cell_type": "markdown",
   "metadata": {},
   "source": [
    "# Addition of more data"
   ]
  },
  {
   "cell_type": "code",
   "execution_count": null,
   "metadata": {},
   "outputs": [],
   "source": [
    "relationship_df = pd.read_excel('/Users/steve/Documents/DSB_M2/bcg/sales_client_relationship_dataset.xlsx')\n",
    "\n",
    "relationship_encoded = pd.get_dummies(relationship_df, columns=['quali_relation'])\n",
    "\n",
    "train_df1 = train_df.merge(relationship_encoded, on='client_id', how='left')\n",
    "test_df1 = test_df.merge(relationship_encoded, on='client_id', how='left')\n"
   ]
  },
  {
   "cell_type": "code",
   "execution_count": null,
   "metadata": {},
   "outputs": [],
   "source": [
    "X_train = train_df1.drop('churn', axis=1)\n",
    "y_train = train_df1['churn']\n",
    "\n",
    "X_test = test_df1.drop('churn', axis=1)\n",
    "y_test = test_df1['churn']\n",
    "\n",
    "## Baseline model with more data\n",
    "model = xgb.XGBClassifier(objective='binary:logistic', seed=42)\n",
    "model.fit(X_train, y_train)\n",
    "predictions = model.predict(X_test)\n",
    "accuracy = accuracy_score(y_test, predictions)\n",
    "print(f\"Model Accuracy: {accuracy}\")\n",
    "\n",
    "\n",
    "y_pred_proba = model.predict_proba(X_test)[:,1]\n",
    "fpr, tpr, thresholds = roc_curve(y_test, y_pred_proba)\n",
    "roc_auc = roc_auc_score(y_test, y_pred_proba)\n",
    "print(f\"AUC: {roc_auc}\")\n",
    "\n",
    "\n",
    "plt.figure()\n",
    "plt.plot(fpr, tpr, color='darkorange', lw=2, label=f'ROC curve (area = {roc_auc:.2f})')\n",
    "plt.xlim([0.0, 1.0])\n",
    "plt.ylim([0.0, 1.05])\n",
    "plt.xlabel('False Positive Rate')\n",
    "plt.ylabel('True Positive Rate')\n",
    "plt.title('Receiver Operating Characteristic')\n",
    "plt.legend(loc=\"lower right\")\n",
    "plt.show()\n"
   ]
  },
  {
   "cell_type": "markdown",
   "metadata": {},
   "source": [
    "# Grid Search"
   ]
  },
  {
   "cell_type": "code",
   "execution_count": null,
   "metadata": {},
   "outputs": [],
   "source": [
    "param_grid = {\n",
    "    'n_estimators': [100, 200, 300, 400, 500],\n",
    "    'learning_rate': [0.01, 0.05, 0.1, 0.15, 0.2],\n",
    "    'max_depth': [3, 4, 5, 6, 7, 8],\n",
    "    'colsample_bytree': [0.3, 0.4, 0.5, 0.7],\n",
    "    'min_child_weight': [1, 2, 3, 4]\n",
    "}\n",
    "\n",
    "xgb_classifier = xgb.XGBClassifier(objective='binary:logistic', seed=42)\n",
    "\n",
    "grid_search = GridSearchCV(xgb_classifier, param_grid=param_grid, scoring='accuracy', n_jobs=-1, cv=5)\n",
    "\n",
    "grid_search.fit(X_train, y_train)\n",
    "\n",
    "best_estimator = grid_search.best_estimator_\n",
    "best_params = grid_search.best_params_\n",
    "print(\"Best Parameters:\", best_params)\n",
    "\n",
    "predictions = best_estimator.predict(X_test)\n",
    "\n",
    "accuracy = accuracy_score(y_test, predictions)\n",
    "print(f\"Model Accuracy with Best Parameters: {accuracy}\")\n"
   ]
  },
  {
   "cell_type": "code",
   "execution_count": null,
   "metadata": {},
   "outputs": [],
   "source": [
    "conf_matrix = confusion_matrix(y_test, predictions)\n",
    "sns.heatmap(conf_matrix, annot=True, fmt='g')\n",
    "plt.xlabel('Predicted labels')\n",
    "plt.ylabel('True labels')\n",
    "plt.title('Confusion Matrix')\n",
    "plt.show()"
   ]
  },
  {
   "cell_type": "code",
   "execution_count": null,
   "metadata": {},
   "outputs": [],
   "source": [
    "y_pred_proba = best_estimator.predict_proba(X_test)[:,1]\n",
    "\n",
    "fpr, tpr, thresholds = roc_curve(y_test, y_pred_proba)\n",
    "roc_auc = roc_auc_score(y_test, y_pred_proba)\n",
    "print(f\"AUC: {roc_auc}\")\n",
    "\n",
    "\n",
    "plt.figure()\n",
    "plt.plot(fpr, tpr, color='darkorange', lw=2, label=f'ROC curve (area = {roc_auc:.2f})')\n",
    "plt.xlim([0.0, 1.0])\n",
    "plt.ylim([0.0, 1.05])\n",
    "plt.xlabel('False Positive Rate')\n",
    "plt.ylabel('True Positive Rate')\n",
    "plt.title('Receiver Operating Characteristic')\n",
    "plt.legend(loc=\"lower right\")\n",
    "plt.show()"
   ]
  },
  {
   "cell_type": "markdown",
   "metadata": {},
   "source": [
    "# Loading the model with best parameters\n",
    "\n",
    "Best Parameters: {'colsample_bytree': 0.7, 'learning_rate': 0.1, 'max_depth': 4, 'min_child_weight': 4, 'n_estimators': 200}"
   ]
  },
  {
   "cell_type": "code",
   "execution_count": null,
   "metadata": {},
   "outputs": [],
   "source": [
    "model = xgb.XGBClassifier(colsample_bytree=0.7, \n",
    "                          learning_rate=0.1, \n",
    "                          max_depth=4, \n",
    "                          min_child_weight=4, \n",
    "                          n_estimators=200)\n",
    "\n",
    "\n",
    "model.fit(X_train, y_train)\n",
    "\n",
    "predictions = model.predict(X_test)\n",
    "accuracy = accuracy_score(y_test, predictions)"
   ]
  },
  {
   "cell_type": "code",
   "execution_count": null,
   "metadata": {},
   "outputs": [],
   "source": [
    "feature_importances = model.feature_importances_\n",
    "\n",
    "# To visualize the feature importances\n",
    "plt.figure(figsize=(10, 6))\n",
    "plt.bar(range(len(feature_importances)), feature_importances, color = '#28BA74')\n",
    "plt.xlabel('Features')\n",
    "plt.ylabel('Importance')\n",
    "plt.xticks(ticks=range(len(feature_importances)), labels=X_train.columns, rotation=90)\n",
    "plt.title('Feature Importance')\n",
    "plt.show()\n"
   ]
  },
  {
   "cell_type": "markdown",
   "metadata": {},
   "source": [
    "# Estimating potential savings"
   ]
  },
  {
   "cell_type": "code",
   "execution_count": null,
   "metadata": {},
   "outputs": [],
   "source": [
    "test_df1['predicted_churn'] = model.predict(X_test)\n",
    "\n",
    "\n",
    "test_df1['potential_loss'] = test_df1['client_avg_sales'] * test_df1['client_total_days']\n",
    "\n",
    "# Filter to customers who were both predicted and actually churned\n",
    "correct_predictions = test_df1[(test_df1['predicted_churn'] == 1) & (test_df1['churn'] == 1)]\n",
    "\n",
    "# Calculate total potential revenue loss for correctly predicted churned customers\n",
    "total_potential_loss = correct_predictions['potential_loss'].sum()\n",
    "\n",
    "retention_strategy_success_rate = 0.1 \n",
    "potential_savings = total_potential_loss * retention_strategy_success_rate\n",
    "\n",
    "print(f\"Total Potential Revenue Loss for Correctly Predicted Churned Customers: ${total_potential_loss}\")\n",
    "print(f\"Potential Savings with Retention Strategies: ${potential_savings}\")\n"
   ]
  },
  {
   "cell_type": "code",
   "execution_count": null,
   "metadata": {},
   "outputs": [],
   "source": [
    "plt.hist(train_df['client_avg_day_diff'], bins=50, color = '#28BA74')\n",
    "plt.xlabel('Average Day Difference')\n",
    "plt.ylabel('Frequency')\n",
    "plt.title('Histogram of Client Average Day Difference')\n",
    "plt.show()\n"
   ]
  }
 ],
 "metadata": {
  "kernelspec": {
   "display_name": "Python 3 (ipykernel)",
   "language": "python",
   "name": "python3"
  },
  "language_info": {
   "codemirror_mode": {
    "name": "ipython",
    "version": 3
   },
   "file_extension": ".py",
   "mimetype": "text/x-python",
   "name": "python",
   "nbconvert_exporter": "python",
   "pygments_lexer": "ipython3",
   "version": "3.11.2"
  }
 },
 "nbformat": 4,
 "nbformat_minor": 2
}
